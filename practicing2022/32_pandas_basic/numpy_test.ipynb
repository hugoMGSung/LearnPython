{
 "cells": [
  {
   "cell_type": "markdown",
   "metadata": {},
   "source": [
    "# 넘파이 사용법 확인\n",
    "\n",
    "### 기본사용법 패키지 추가\n",
    "#### 설치\n",
    "> pip install numpy"
   ]
  },
  {
   "cell_type": "markdown",
   "metadata": {},
   "source": [
    "### Numpy 버전확인"
   ]
  },
  {
   "cell_type": "code",
   "execution_count": 1,
   "metadata": {},
   "outputs": [
    {
     "name": "stdout",
     "output_type": "stream",
     "text": [
      "1.21.4\n"
     ]
    }
   ],
   "source": [
    "import numpy as np\n",
    "print(np.__version__)\n"
   ]
  },
  {
   "cell_type": "markdown",
   "metadata": {},
   "source": [
    "### np.array()"
   ]
  },
  {
   "cell_type": "code",
   "execution_count": 5,
   "metadata": {},
   "outputs": [
    {
     "name": "stdout",
     "output_type": "stream",
     "text": [
      "[1 2 3 4 5]\n",
      "[[10 20 30]\n",
      " [40 50 60]]\n"
     ]
    }
   ],
   "source": [
    "# 1차원 배열\n",
    "arr = np.array([1, 2, 3, 4, 5])\n",
    "print(arr)\n",
    "\n",
    "# 2차원 배열\n",
    "mat = np.array([[10,20,30],[40,50,60]])\n",
    "print(mat)"
   ]
  },
  {
   "cell_type": "code",
   "execution_count": 7,
   "metadata": {},
   "outputs": [
    {
     "name": "stdout",
     "output_type": "stream",
     "text": [
      "arr의 타입 : <class 'numpy.ndarray'>\n",
      "mat의 타입 : <class 'numpy.ndarray'>\n",
      "arr의 축 : 1\n",
      "arr의 크기 : (5,)\n",
      "mat의 축 : 2\n",
      "mat의 크기 : (2, 3)\n"
     ]
    }
   ],
   "source": [
    "# 배열의 타입확인\n",
    "print(f'arr의 타입 : {type(arr)}')\n",
    "print(f'mat의 타입 : {type(mat)}')\n",
    "\n",
    "# 배열의 축(ndim)과 크기(shape) 확인\n",
    "print(f'arr의 축 : {arr.ndim}')\n",
    "print(f'arr의 크기 : {arr.shape}')\n",
    "print(f'mat의 축 : {mat.ndim}')\n",
    "print(f'mat의 크기 : {mat.shape}')\n",
    "\n"
   ]
  },
  {
   "cell_type": "code",
   "execution_count": 12,
   "metadata": {},
   "outputs": [
    {
     "name": "stdout",
     "output_type": "stream",
     "text": [
      "[[0. 0. 0.]\n",
      " [0. 0. 0.]]\n",
      "[[1. 1. 1.]\n",
      " [1. 1. 1.]]\n",
      "[[8 8 8]\n",
      " [8 8 8]]\n",
      "[[1. 0. 0.]\n",
      " [0. 1. 0.]\n",
      " [0. 0. 1.]]\n",
      "[[0.60401332 0.87922728 0.81235333]\n",
      " [0.83359204 0.20594759 0.62276732]]\n"
     ]
    }
   ],
   "source": [
    "#ndarray 초기화 방법\n",
    "mat_zero = np.zeros([2, 3])\n",
    "print(mat_zero)\n",
    "\n",
    "mat_one = np.ones([2, 3])\n",
    "print(mat_one)\n",
    "\n",
    "mat_eight = np.full([2, 3], 8)\n",
    "print(mat_eight)\n",
    "\n",
    "mat_eye = np.eye(3)\n",
    "print(mat_eye)\n",
    "\n",
    "mat_rand = np.random.random([2,3])\n",
    "print(mat_rand)"
   ]
  }
 ],
 "metadata": {
  "interpreter": {
   "hash": "f96a9a07a116f6f1ffed9cd3a9ab21c3a5ddd23e72a9eab081c16d79846f9680"
  },
  "kernelspec": {
   "display_name": "Python 3.9.7 64-bit ('venv': venv)",
   "language": "python",
   "name": "python3"
  },
  "language_info": {
   "codemirror_mode": {
    "name": "ipython",
    "version": 3
   },
   "file_extension": ".py",
   "mimetype": "text/x-python",
   "name": "python",
   "nbconvert_exporter": "python",
   "pygments_lexer": "ipython3",
   "version": "3.9.7"
  },
  "orig_nbformat": 4
 },
 "nbformat": 4,
 "nbformat_minor": 2
}
